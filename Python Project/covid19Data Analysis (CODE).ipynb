{
 "cells": [
  {
   "cell_type": "markdown",
   "metadata": {},
   "source": [
    "Topic Name:COVID 19 DATA ANALYSIS"
   ]
  },
  {
   "cell_type": "markdown",
   "metadata": {},
   "source": [
    "Cell 1: Importing Essential Libraries for Data Manipulation and Analysis"
   ]
  },
  {
   "cell_type": "code",
   "execution_count": 1,
   "metadata": {},
   "outputs": [],
   "source": [
    "# Data Manipulation\n",
    "import pandas as pd\n",
    "import numpy as np\n",
    "\n",
    "# Data Visualization\n",
    "import matplotlib.pyplot as plt\n",
    "import seaborn as sns\n",
    "from mpl_toolkits import mplot3d\n",
    "\n",
    "import os\n",
    "import warnings\n",
    "warnings.simplefilter(action='ignore', category=FutureWarning)\n",
    "with warnings.catch_warnings():\n",
    "    warnings.simplefilter(\"ignore\", RuntimeWarning)"
   ]
  },
  {
   "cell_type": "markdown",
   "metadata": {},
   "source": [
    "Cell 2: Loading and Exploring the Data\n"
   ]
  },
  {
   "cell_type": "code",
   "execution_count": null,
   "metadata": {},
   "outputs": [],
   "source": [
    "# Read the CSV file into a DataFrame\n",
    "data_frame = pd.read_csv('/kaggle/input/corona-virus-report/country_wise_latest.csv')\n",
    "data_frame.head(10)\n",
    "\n",
    "# A summary of not null count and datatype of the data frame columns\n",
    "data_info = data_frame.info()\n",
    "print(data_info)\n",
    "\n",
    "# A summary of statistics pertaining to the data frame columns\n",
    "print('Data frame columns are summarized as- \\n:')\n",
    "data_frame.describe()\n",
    "\n",
    "# Null function for detecting the missing values\n",
    "data_frame.isnull()\n",
    "\n",
    "# Sum of Column-wise Null Values\n",
    "print(data_frame.isnull().sum())\n",
    "\n",
    "# Drop rows with any missing values\n",
    "df_cleaned = data_frame.dropna()"
   ]
  },
  {
   "cell_type": "markdown",
   "metadata": {},
   "source": [
    "Cell 3: Calculating Totals and Sorting Data"
   ]
  },
  {
   "cell_type": "code",
   "execution_count": null,
   "metadata": {},
   "outputs": [],
   "source": [
    "# Total confirmed case, recovered case, death case\n",
    "total_confirmed = data_frame['Confirmed'].sum()\n",
    "total_recovered = data_frame['Recovered'].sum()\n",
    "total_death = data_frame['Deaths'].sum()\n",
    "\n",
    "print(\"Total Confirmed case\", total_confirmed)\n",
    "print(\"Total Recovered case\", total_recovered)\n",
    "print('Total Death case', total_death)\n",
    "\n",
    "# Top confirmed cases country\n",
    "sort_confirmed = data_frame.sort_values(by='Confirmed', ascending=False)\n",
    "print(sort_confirmed.head(5))\n",
    "\n",
    "# Lowest five confirmed case countries\n",
    "print(sort_confirmed.tail(5))\n",
    "\n",
    "# Top five death cases country\n",
    "sort_deaths = data_frame.sort_values(by='Deaths', ascending=False)\n",
    "print(sort_deaths.head(5))\n",
    "\n",
    "# Lowest five death case countries\n",
    "print(sort_deaths.tail(5))\n",
    "\n",
    "# Top five recovered cases country\n",
    "sort_recovered = data_frame.sort_values(by='Recovered', ascending=False)\n",
    "print(sort_recovered.head(5))\n",
    "\n",
    "# Lowest five recovered case countries\n",
    "print(sort_recovered.tail(5))\n",
    "\n",
    "# Top five active cases country\n",
    "sort_active = data_frame.sort_values(by='Active', ascending=False)\n",
    "print(sort_active.head(5))\n",
    "\n",
    "# Lowest five active case countries\n",
    "print(sort_active.tail(5))\n"
   ]
  },
  {
   "cell_type": "markdown",
   "metadata": {},
   "source": [
    "Cell 4: Plotting Confirmed Cases Country-wise"
   ]
  },
  {
   "cell_type": "code",
   "execution_count": null,
   "metadata": {},
   "outputs": [],
   "source": [
    "# Plotting Confirmed cases country-wise\n",
    "plt.style.use('dark_background')\n",
    "plt.figure(figsize=(15, 4))\n",
    "plt.plot(data_frame['Country/Region'], data_frame['Confirmed'])\n",
    "plt.xlabel(\"Country/Region\")\n",
    "plt.ylabel('Confirmed')\n",
    "plt.title('Confirmed cases country-wise', fontsize=16, fontweight='bold', style='italic')\n",
    "plt.show()\n"
   ]
  },
  {
   "cell_type": "markdown",
   "metadata": {},
   "source": [
    "Cell 5: Plotting Various COVID-19 Trends"
   ]
  },
  {
   "cell_type": "code",
   "execution_count": null,
   "metadata": {},
   "outputs": [],
   "source": [
    "# Plotting multiple trends: Confirmed, Deaths, Recovered, Active\n",
    "plt.figure(figsize=(15, 6))\n",
    "plt.style.use('dark_background')\n",
    "\n",
    "# Plotting Confirmed cases\n",
    "plt.plot(data_frame['Country/Region'], data_frame['Confirmed'], linestyle='-', color='#051282', label='Confirmed', lw=3)\n",
    "\n",
    "# Plotting Deaths\n",
    "plt.plot(data_frame['Country/Region'], data_frame['Deaths'], linestyle='-.', color='#ed0231', label='Deaths')\n",
    "\n",
    "# Plotting Recovered cases\n",
    "plt.plot(data_frame['Country/Region'], data_frame['Recovered'], linestyle='--', color='#30c90e', label='Recovered', lw=2)\n",
    "\n",
    "# Plotting active cases\n",
    "plt.plot(data_frame['Country/Region'], data_frame['Active'], linestyle=':', color='w', label='Active', lw=2)\n",
    "\n",
    "plt.xlabel('Country/Region')\n",
    "plt.ylabel('No: of cases (in millions)')\n",
    "plt.title('Global Trend of COVID-19 Cases')\n",
    "plt.legend()\n",
    "plt.show()\n"
   ]
  },
  {
   "cell_type": "markdown",
   "metadata": {},
   "source": [
    "Cell 6: Plotting Relationships Between Various Metrics"
   ]
  },
  {
   "cell_type": "code",
   "execution_count": null,
   "metadata": {},
   "outputs": [],
   "source": [
    "# Plotting Deaths vs Confirmed cases\n",
    "plt.style.use('dark_background')\n",
    "plt.figure(figsize=(15, 4))\n",
    "sns.lineplot(x=\"Deaths\", y=\"Confirmed\", data=data_frame)\n",
    "plt.title('Confirmed cases vs Death cases')\n",
    "plt.show()\n",
    "\n",
    "# Plotting Recovered cases vs Confirmed cases\n",
    "plt.figure(figsize=(15, 4))\n",
    "sns.lineplot(x=\"Recovered\", y=\"Confirmed\", data=data_frame)\n",
    "plt.show()\n",
    "\n",
    "# Plotting Active cases vs Confirmed cases\n",
    "plt.figure(figsize=(15, 4))\n",
    "sns.lineplot(x=\"Active\", y=\"Confirmed\", data=data_frame)\n",
    "plt.show()\n"
   ]
  },
  {
   "cell_type": "markdown",
   "metadata": {},
   "source": [
    "Cell 7: Plotting New Cases Trends"
   ]
  },
  {
   "cell_type": "code",
   "execution_count": null,
   "metadata": {},
   "outputs": [],
   "source": [
    "# Plotting New cases, Deaths, Recovered cases\n",
    "plt.figure(figsize=(15, 6))\n",
    "plt.style.use('dark_background')\n",
    "\n",
    "# Plotting New cases\n",
    "plt.plot(data_frame['Country/Region'], data_frame['New cases'], linestyle='-', color='#051282', label='New_cases', lw=3)\n",
    "\n",
    "# Plotting New Death cases\n",
    "plt.plot(data_frame['Country/Region'], data_frame['New deaths'], linestyle='-.', color='#ed0231', label='New_deaths')\n",
    "\n",
    "# Plotting New Recovered cases\n",
    "plt.plot(data_frame['Country/Region'], data_frame['New recovered'], linestyle='--', color='#30c90e', label='New_recovered', lw=2)\n",
    "\n",
    "plt.xlabel('Country')\n",
    "plt.ylabel('No: of cases')\n",
    "plt.title('Global Trend of New COVID-19 Cases')\n",
    "plt.legend()\n",
    "plt.show()\n"
   ]
  },
  {
   "cell_type": "markdown",
   "metadata": {},
   "source": [
    "Cell 8: Visualizing WHO Region-wise Data"
   ]
  },
  {
   "cell_type": "code",
   "execution_count": null,
   "metadata": {},
   "outputs": [],
   "source": [
    "# Confirmed cases WHO Region-wise\n",
    "Who_regionscon = data_frame.groupby('WHO Region')['Confirmed'].sum().sort_values()\n",
    "print(Who_regionscon)\n",
    "\n",
    "# Data Visualization of Confirmed Cases WHO Region-wise\n",
    "plt.figure(figsize=(9, 4))\n",
    "sns.barplot(x=\"WHO Region\", y='Confirmed', data=data_frame, palette='pastel')\n",
    "\n",
    "# Pie chart\n",
    "plt.figure(figsize=(4, 4))\n",
    "plt.pie(Who_regionscon, labels=Who_regionscon.index, autopct='%1.1f%%', startangle=140, colors=sns.color_palette('pastel'))\n",
    "plt.title(\"Confirmed cases vs WHO Region\")\n",
    "plt.show()\n"
   ]
  },
  {
   "cell_type": "markdown",
   "metadata": {},
   "source": [
    "Cell 9: Visualizing Deaths WHO Region-wise"
   ]
  },
  {
   "cell_type": "code",
   "execution_count": null,
   "metadata": {},
   "outputs": [],
   "source": [
    "# Death cases WHO Region-wise\n",
    "Who_regionsdea = data_frame.groupby('WHO Region')['Deaths'].sum().sort_values()\n",
    "print(Who_regionsdea)\n",
    "\n",
    "# Data Visualization Death cases WHO Region-wise\n",
    "plt.figure(figsize=(8, 4))\n",
    "sns.barplot(x=\"WHO Region\", y='Deaths', data=data_frame, palette='magma')\n",
    "\n",
    "# Pie chart\n",
    "plt.figure(figsize=(4, 4))\n",
    "plt.pie(Who_regionsdea, labels=Who_regionsdea.index, autopct='%1.1f%%', startangle=140, colors=sns.color_palette('magma'))\n",
    "plt.show()\n"
   ]
  },
  {
   "cell_type": "markdown",
   "metadata": {},
   "source": [
    "Cell 10: Visualizing Recovered Cases WHO Region-wise"
   ]
  },
  {
   "cell_type": "code",
   "execution_count": null,
   "metadata": {},
   "outputs": [],
   "source": [
    "# Recovered cases WHO Region-wise\n",
    "Who_regionsrec = data_frame.groupby('WHO Region')['Recovered'].sum().sort_values()\n",
    "print(Who_regionsrec)\n",
    "\n",
    "# Data Visualization Recovered cases WHO Region-wise\n",
    "plt.figure(figsize=(8, 4))\n",
    "sns.barplot(x=\"WHO Region\", y='Recovered', data=data_frame, palette='cubehelix')\n",
    "\n",
    "# Pie chart\n",
    "plt.figure(figsize=(4, 4))\n",
    "plt.pie(Who_regionsrec, labels=Who_regionsrec.index, autopct='%1.1f%%', startangle=140, colors=sns.color_palette('cubehelix'))\n",
    "plt.show()\n"
   ]
  },
  {
   "cell_type": "markdown",
   "metadata": {},
   "source": [
    "Cell 11: Visualizing Active Cases WHO Region-wise"
   ]
  },
  {
   "cell_type": "code",
   "execution_count": null,
   "metadata": {},
   "outputs": [],
   "source": [
    "# Active cases WHO Region-wise\n",
    "Who_regionsact = data_frame.groupby('WHO Region')['Active'].sum().sort_values()\n",
    "print(Who_regionsact)\n",
    "\n",
    "# Data Visualization Active cases WHO Region-wise\n",
    "plt.figure(figsize=(9, 4))\n",
    "sns.barplot(x=\"WHO Region\", y='Active', data=data_frame, palette='pastel')\n",
    "\n",
    "# Pie chart\n",
    "plt.figure(figsize=(4, 4))\n",
    "plt.pie(Who_regionscon, labels=Who_regionscon.index, autopct='%1.1f%%', startangle=140, colors=sns.color_palette('pastel'))\n",
    "plt.title(\"Active cases vs WHO Region\")\n",
    "plt.show()\n"
   ]
  },
  {
   "cell_type": "markdown",
   "metadata": {},
   "source": [
    "Cell 12: Plotting 1 Week Percentage Increase"
   ]
  },
  {
   "cell_type": "code",
   "execution_count": null,
   "metadata": {},
   "outputs": [],
   "source": [
    "# Data Visualization of 1-week % increase\n",
    "plt.style.use('ggplot')\n",
    "plt.figure(figsize=(15, 4))\n",
    "sns.lineplot(x='1 week % increase', y=\"WHO Region\", data=data_frame)\n",
    "plt.show()\n"
   ]
  },
  {
   "cell_type": "markdown",
   "metadata": {},
   "source": [
    "Cell 13: Loading and Visualizing Nepal's Data"
   ]
  },
  {
   "cell_type": "code",
   "execution_count": null,
   "metadata": {},
   "outputs": [],
   "source": [
    "# Data loading of Nepal\n",
    "nepal = data_frame[data_frame['Country/Region'] == 'Nepal']\n",
    "print(nepal)\n",
    "\n",
    "# Data Visualization of Nepal\n",
    "plt.figure(figsize=(15, 4))\n",
    "sns.barplot(data=nepal, orient='h')\n",
    "plt.xlabel(\"Count\")\n",
    "plt.title('Nepal')\n",
    "plt.show()\n"
   ]
  },
  {
   "cell_type": "markdown",
   "metadata": {},
   "source": [
    "Cell 14: Decision Tree and Random Forest Models"
   ]
  },
  {
   "cell_type": "code",
   "execution_count": null,
   "metadata": {},
   "outputs": [],
   "source": [
    "from sklearn.model_selection import train_test_split\n",
    "from sklearn.tree import DecisionTreeClassifier\n",
    "from sklearn.ensemble import RandomForestClassifier\n",
    "from sklearn.metrics import accuracy_score, classification_report, confusion_matrix\n",
    "\n",
    "# Prepare the data\n",
    "features = ['Deaths', 'Recovered', 'Active']  # Select\n"
   ]
  },
  {
   "cell_type": "markdown",
   "metadata": {},
   "source": [
    "PROJECT ENDS THANK YOU FOR READING                                                                               BY-SANYAM,PARV GOEL ,RAHUL SHARMA AND VANSHAJ"
   ]
  }
 ],
 "metadata": {
  "kernelspec": {
   "display_name": "Python 3",
   "language": "python",
   "name": "python3"
  },
  "language_info": {
   "codemirror_mode": {
    "name": "ipython",
    "version": 3
   },
   "file_extension": ".py",
   "mimetype": "text/x-python",
   "name": "python",
   "nbconvert_exporter": "python",
   "pygments_lexer": "ipython3",
   "version": "3.11.9"
  }
 },
 "nbformat": 4,
 "nbformat_minor": 2
}
